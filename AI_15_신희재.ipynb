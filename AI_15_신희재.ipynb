{
  "cells": [
    {
      "cell_type": "code",
      "execution_count": 14,
      "metadata": {
        "id": "OwA8EHQdZv7i"
      },
      "outputs": [],
      "source": [
        "import tensorflow as tf\n",
        "import tensorflow_datasets as tfds\n",
        "tfds.disable_progress_bar()\n",
        "import os\n",
        "\n",
        "from IPython.display import clear_output\n",
        "import matplotlib.pyplot as plt\n",
        "from tensorflow.keras.applications.vgg16 import VGG16\n",
        "from tensorflow.keras.layers import Dense, GlobalAveragePooling2D,Conv2D,MaxPooling2D,Flatten\n",
        "from tensorflow.keras.models import Sequential\n",
        "from tensorflow.keras.datasets import cifar10\n",
        "from sklearn.model_selection import train_test_split\n",
        "import numpy as np\n",
        "from tensorflow.keras import layers, losses\n",
        "from tensorflow.keras.datasets import fashion_mnist\n",
        "from tensorflow.keras.models import Model"
      ]
    },
    {
      "cell_type": "code",
      "execution_count": 15,
      "metadata": {
        "colab": {
          "base_uri": "https://localhost:8080/"
        },
        "id": "4pdLTl7rZu9s",
        "outputId": "ddd233aa-aeb0-4e71-ef27-a54aa840cfc4"
      },
      "outputs": [
        {
          "output_type": "stream",
          "name": "stdout",
          "text": [
            "Drive already mounted at /content/drive; to attempt to forcibly remount, call drive.mount(\"/content/drive\", force_remount=True).\n"
          ]
        }
      ],
      "source": [
        "from google.colab import drive\n",
        "drive.mount('/content/drive')"
      ]
    },
    {
      "cell_type": "code",
      "execution_count": 16,
      "metadata": {
        "id": "teGcA3RXtgeX"
      },
      "outputs": [],
      "source": [
        "IMAGE_SIZE = (224,224)"
      ]
    },
    {
      "cell_type": "code",
      "execution_count": 17,
      "metadata": {
        "colab": {
          "base_uri": "https://localhost:8080/"
        },
        "id": "svtKFRGQpinj",
        "outputId": "b5511803-8e06-41cd-c4c8-ee152ca38195"
      },
      "outputs": [
        {
          "output_type": "stream",
          "name": "stdout",
          "text": [
            "Found 5121 files belonging to 4 classes.\n",
            "Using 4097 files for training.\n",
            "Found 5121 files belonging to 4 classes.\n",
            "Using 1024 files for validation.\n",
            "Found 1279 files belonging to 4 classes.\n"
          ]
        }
      ],
      "source": [
        "train_ds = tf.keras.preprocessing.image_dataset_from_directory(\n",
        "    \"/content/drive/MyDrive/project4data/Alzheimer_s Dataset/train\",\n",
        "    labels = 'inferred',\n",
        "    validation_split=0.2,\n",
        "    subset=\"training\",\n",
        "    label_mode=\"int\",\n",
        "    color_mode=\"rgb\",\n",
        "    class_names = ['MildDemented', 'ModerateDemented', 'NonDemented', 'VeryMildDemented'],\n",
        "    seed=42,\n",
        "    image_size=IMAGE_SIZE,\n",
        ")\n",
        "val_ds = tf.keras.preprocessing.image_dataset_from_directory(\n",
        "    \"/content/drive/MyDrive/project4data/Alzheimer_s Dataset/train\",\n",
        "    labels = 'inferred',\n",
        "    validation_split=0.2,\n",
        "    subset=\"validation\",\n",
        "    label_mode=\"int\",\n",
        "    color_mode=\"rgb\",\n",
        "    class_names = ['MildDemented', 'ModerateDemented', 'NonDemented', 'VeryMildDemented'],\n",
        "    seed=42,\n",
        "    image_size=IMAGE_SIZE,\n",
        ")\n",
        "\n",
        "\n",
        "test_ds = tf.keras.preprocessing.image_dataset_from_directory(\n",
        "    \"/content/drive/MyDrive/project4data/Alzheimer_s Dataset/test\",\n",
        "    labels = 'inferred',\n",
        "    label_mode=\"int\",\n",
        "    color_mode=\"rgb\",\n",
        "    class_names = ['MildDemented', 'ModerateDemented', 'NonDemented', 'VeryMildDemented'],\n",
        "    seed=42,\n",
        "    image_size=IMAGE_SIZE,\n",
        ")"
      ]
    },
    {
      "cell_type": "code",
      "execution_count": 18,
      "metadata": {
        "id": "Itrs7Dv9HsCj"
      },
      "outputs": [],
      "source": [
        "def model1():\n",
        "    model = tf.keras.Sequential([\n",
        "        tf.keras.Input(shape=(*IMAGE_SIZE, 3)),\n",
        "        \n",
        "        tf.keras.layers.Conv2D(16, 3, activation='relu', padding='same'),\n",
        "        tf.keras.layers.MaxPool2D(),\n",
        "        \n",
        "        tf.keras.layers.SeparableConv2D(32, 3, activation='relu', padding='same'),\n",
        "        tf.keras.layers.BatchNormalization(),\n",
        "        tf.keras.layers.MaxPool2D(),\n",
        "        tf.keras.layers.SeparableConv2D(64, 3, activation='relu', padding='same'),\n",
        "        tf.keras.layers.BatchNormalization(),\n",
        "        tf.keras.layers.MaxPool2D(),\n",
        "\n",
        "        tf.keras.layers.SeparableConv2D(128, 3, activation='relu', padding='same'),\n",
        "        tf.keras.layers.BatchNormalization(),\n",
        "        tf.keras.layers.MaxPool2D(),\n",
        "        tf.keras.layers.Dropout(0.2),\n",
        "        tf.keras.layers.SeparableConv2D(256, 3, activation='relu', padding='same'),\n",
        "        tf.keras.layers.BatchNormalization(),\n",
        "        tf.keras.layers.MaxPool2D(),\n",
        "        tf.keras.layers.Dropout(0.2),\n",
        "        \n",
        "        tf.keras.layers.Flatten(),\n",
        "        tf.keras.layers.Dense(512, activation='relu'),\n",
        "        tf.keras.layers.BatchNormalization(),\n",
        "        tf.keras.layers.Dropout(0.6),\n",
        "        tf.keras.layers.Dense(256, activation='relu'),\n",
        "        tf.keras.layers.BatchNormalization(),\n",
        "        tf.keras.layers.Dropout(0.5),\n",
        "        tf.keras.layers.Dense(128, activation='relu'),\n",
        "        tf.keras.layers.BatchNormalization(),\n",
        "        tf.keras.layers.Dropout(0.5),\n",
        "        tf.keras.layers.Dense(64, activation='relu'),\n",
        "        tf.keras.layers.BatchNormalization(),\n",
        "        tf.keras.layers.Dropout(0.3),\n",
        "        \n",
        "        tf.keras.layers.Dense(4, activation='softmax')\n",
        "    ])\n",
        "    \n",
        "    return model"
      ]
    },
    {
      "cell_type": "code",
      "execution_count": 19,
      "metadata": {
        "id": "Ccab3Y0W2dVo"
      },
      "outputs": [],
      "source": [
        "model = model1()"
      ]
    },
    {
      "cell_type": "code",
      "execution_count": 20,
      "metadata": {
        "colab": {
          "base_uri": "https://localhost:8080/"
        },
        "id": "aLZ_ywKI3I4-",
        "outputId": "7ca10e84-9097-42ec-f318-68d0c6fb6763"
      },
      "outputs": [
        {
          "output_type": "stream",
          "name": "stdout",
          "text": [
            "Model: \"sequential_1\"\n",
            "_________________________________________________________________\n",
            " Layer (type)                Output Shape              Param #   \n",
            "=================================================================\n",
            " conv2d_1 (Conv2D)           (None, 224, 224, 16)      448       \n",
            "                                                                 \n",
            " max_pooling2d_5 (MaxPooling  (None, 112, 112, 16)     0         \n",
            " 2D)                                                             \n",
            "                                                                 \n",
            " separable_conv2d_4 (Separab  (None, 112, 112, 32)     688       \n",
            " leConv2D)                                                       \n",
            "                                                                 \n",
            " batch_normalization_8 (Batc  (None, 112, 112, 32)     128       \n",
            " hNormalization)                                                 \n",
            "                                                                 \n",
            " max_pooling2d_6 (MaxPooling  (None, 56, 56, 32)       0         \n",
            " 2D)                                                             \n",
            "                                                                 \n",
            " separable_conv2d_5 (Separab  (None, 56, 56, 64)       2400      \n",
            " leConv2D)                                                       \n",
            "                                                                 \n",
            " batch_normalization_9 (Batc  (None, 56, 56, 64)       256       \n",
            " hNormalization)                                                 \n",
            "                                                                 \n",
            " max_pooling2d_7 (MaxPooling  (None, 28, 28, 64)       0         \n",
            " 2D)                                                             \n",
            "                                                                 \n",
            " separable_conv2d_6 (Separab  (None, 28, 28, 128)      8896      \n",
            " leConv2D)                                                       \n",
            "                                                                 \n",
            " batch_normalization_10 (Bat  (None, 28, 28, 128)      512       \n",
            " chNormalization)                                                \n",
            "                                                                 \n",
            " max_pooling2d_8 (MaxPooling  (None, 14, 14, 128)      0         \n",
            " 2D)                                                             \n",
            "                                                                 \n",
            " dropout_6 (Dropout)         (None, 14, 14, 128)       0         \n",
            "                                                                 \n",
            " separable_conv2d_7 (Separab  (None, 14, 14, 256)      34176     \n",
            " leConv2D)                                                       \n",
            "                                                                 \n",
            " batch_normalization_11 (Bat  (None, 14, 14, 256)      1024      \n",
            " chNormalization)                                                \n",
            "                                                                 \n",
            " max_pooling2d_9 (MaxPooling  (None, 7, 7, 256)        0         \n",
            " 2D)                                                             \n",
            "                                                                 \n",
            " dropout_7 (Dropout)         (None, 7, 7, 256)         0         \n",
            "                                                                 \n",
            " flatten_1 (Flatten)         (None, 12544)             0         \n",
            "                                                                 \n",
            " dense_5 (Dense)             (None, 512)               6423040   \n",
            "                                                                 \n",
            " batch_normalization_12 (Bat  (None, 512)              2048      \n",
            " chNormalization)                                                \n",
            "                                                                 \n",
            " dropout_8 (Dropout)         (None, 512)               0         \n",
            "                                                                 \n",
            " dense_6 (Dense)             (None, 256)               131328    \n",
            "                                                                 \n",
            " batch_normalization_13 (Bat  (None, 256)              1024      \n",
            " chNormalization)                                                \n",
            "                                                                 \n",
            " dropout_9 (Dropout)         (None, 256)               0         \n",
            "                                                                 \n",
            " dense_7 (Dense)             (None, 128)               32896     \n",
            "                                                                 \n",
            " batch_normalization_14 (Bat  (None, 128)              512       \n",
            " chNormalization)                                                \n",
            "                                                                 \n",
            " dropout_10 (Dropout)        (None, 128)               0         \n",
            "                                                                 \n",
            " dense_8 (Dense)             (None, 64)                8256      \n",
            "                                                                 \n",
            " batch_normalization_15 (Bat  (None, 64)               256       \n",
            " chNormalization)                                                \n",
            "                                                                 \n",
            " dropout_11 (Dropout)        (None, 64)                0         \n",
            "                                                                 \n",
            " dense_9 (Dense)             (None, 4)                 260       \n",
            "                                                                 \n",
            "=================================================================\n",
            "Total params: 6,648,148\n",
            "Trainable params: 6,645,268\n",
            "Non-trainable params: 2,880\n",
            "_________________________________________________________________\n"
          ]
        }
      ],
      "source": [
        "model.summary()"
      ]
    },
    {
      "cell_type": "code",
      "execution_count": 21,
      "metadata": {
        "id": "IQttpmdZedtG"
      },
      "outputs": [],
      "source": [
        "model.compile(optimizer='adam',\n",
        "              loss='sparse_categorical_crossentropy',\n",
        "              metrics=['accuracy'])"
      ]
    },
    {
      "cell_type": "code",
      "execution_count": 22,
      "metadata": {
        "id": "ap0dY5HKgosh"
      },
      "outputs": [],
      "source": [
        "checkpoint_filepath = '/content/drive/MyDrive/model4/'\n",
        "model_checkpoint_callback = tf.keras.callbacks.ModelCheckpoint(\n",
        "    filepath=checkpoint_filepath,\n",
        "    save_weights_only=True,\n",
        "    monitor='val_accuracy',\n",
        "    mode='max',\n",
        "    save_best_only=True)"
      ]
    },
    {
      "cell_type": "code",
      "execution_count": 23,
      "metadata": {
        "colab": {
          "base_uri": "https://localhost:8080/"
        },
        "id": "32bYj0HaHuha",
        "outputId": "97256c7a-3fa0-4db8-f574-caf3a4470660"
      },
      "outputs": [
        {
          "output_type": "stream",
          "name": "stdout",
          "text": [
            "Epoch 1/20\n",
            "129/129 [==============================] - 993s 8s/step - loss: 1.6409 - accuracy: 0.3688 - val_loss: 2.2575 - val_accuracy: 0.2578\n",
            "Epoch 2/20\n",
            "129/129 [==============================] - 13s 99ms/step - loss: 1.1912 - accuracy: 0.4979 - val_loss: 1.6638 - val_accuracy: 0.1396\n",
            "Epoch 3/20\n",
            "129/129 [==============================] - 13s 99ms/step - loss: 1.0413 - accuracy: 0.5511 - val_loss: 1.2169 - val_accuracy: 0.3555\n",
            "Epoch 4/20\n",
            "129/129 [==============================] - 13s 98ms/step - loss: 0.9488 - accuracy: 0.5721 - val_loss: 1.2351 - val_accuracy: 0.3555\n",
            "Epoch 5/20\n",
            "129/129 [==============================] - 13s 101ms/step - loss: 0.8786 - accuracy: 0.6163 - val_loss: 1.1154 - val_accuracy: 0.4150\n",
            "Epoch 6/20\n",
            "129/129 [==============================] - 13s 100ms/step - loss: 0.8149 - accuracy: 0.6480 - val_loss: 0.8269 - val_accuracy: 0.6025\n",
            "Epoch 7/20\n",
            "129/129 [==============================] - 14s 102ms/step - loss: 0.7587 - accuracy: 0.6710 - val_loss: 0.8656 - val_accuracy: 0.6240\n",
            "Epoch 8/20\n",
            "129/129 [==============================] - 14s 104ms/step - loss: 0.7125 - accuracy: 0.6983 - val_loss: 0.6736 - val_accuracy: 0.7334\n",
            "Epoch 9/20\n",
            "129/129 [==============================] - 14s 106ms/step - loss: 0.6470 - accuracy: 0.7347 - val_loss: 0.5616 - val_accuracy: 0.7764\n",
            "Epoch 10/20\n",
            "129/129 [==============================] - 13s 98ms/step - loss: 0.5884 - accuracy: 0.7623 - val_loss: 0.7235 - val_accuracy: 0.6582\n",
            "Epoch 11/20\n",
            "129/129 [==============================] - 13s 98ms/step - loss: 0.5417 - accuracy: 0.7872 - val_loss: 0.6878 - val_accuracy: 0.7158\n",
            "Epoch 12/20\n",
            "129/129 [==============================] - 13s 99ms/step - loss: 0.4926 - accuracy: 0.8123 - val_loss: 0.5620 - val_accuracy: 0.7822\n",
            "Epoch 13/20\n",
            "129/129 [==============================] - 14s 102ms/step - loss: 0.4349 - accuracy: 0.8374 - val_loss: 0.3405 - val_accuracy: 0.8584\n",
            "Epoch 14/20\n",
            "129/129 [==============================] - 13s 98ms/step - loss: 0.3771 - accuracy: 0.8648 - val_loss: 0.5313 - val_accuracy: 0.8027\n",
            "Epoch 15/20\n",
            "129/129 [==============================] - 13s 97ms/step - loss: 0.3550 - accuracy: 0.8733 - val_loss: 0.3972 - val_accuracy: 0.8369\n",
            "Epoch 16/20\n",
            "129/129 [==============================] - 13s 100ms/step - loss: 0.3725 - accuracy: 0.8582 - val_loss: 0.3187 - val_accuracy: 0.8809\n",
            "Epoch 17/20\n",
            "129/129 [==============================] - 13s 100ms/step - loss: 0.7844 - accuracy: 0.6898 - val_loss: 0.7596 - val_accuracy: 0.6641\n",
            "Epoch 18/20\n",
            "129/129 [==============================] - 13s 98ms/step - loss: 0.5011 - accuracy: 0.8130 - val_loss: 0.4064 - val_accuracy: 0.8447\n",
            "Epoch 19/20\n",
            "129/129 [==============================] - 13s 100ms/step - loss: 0.3682 - accuracy: 0.8589 - val_loss: 0.2861 - val_accuracy: 0.8838\n",
            "Epoch 20/20\n",
            "129/129 [==============================] - 13s 100ms/step - loss: 0.3083 - accuracy: 0.8816 - val_loss: 0.3590 - val_accuracy: 0.8633\n"
          ]
        }
      ],
      "source": [
        "history = model.fit(train_ds,\n",
        "          epochs=20,\n",
        "          callbacks=[model_checkpoint_callback],\n",
        "          batch_size=32,\n",
        "          validation_data = val_ds\n",
        "          )"
      ]
    },
    {
      "cell_type": "code",
      "source": [
        "loss = history.history['accuracy']\n",
        "val_loss = history.history['val_accuracy']\n",
        "\n",
        "epochs = range(20)\n",
        "\n",
        "plt.figure()\n",
        "plt.plot(epochs, loss, 'r', label='Training accuracy')\n",
        "plt.plot(epochs, val_loss, 'r', label='val accuracy',color = 'b')\n",
        "plt.title('Training and Validation accuracy')\n",
        "plt.xlabel('Epoch')\n",
        "plt.ylabel('accuracy')\n",
        "plt.ylim([0, 1])\n",
        "plt.legend()\n",
        "plt.show()"
      ],
      "metadata": {
        "id": "W29Ib19JRAPY",
        "colab": {
          "base_uri": "https://localhost:8080/",
          "height": 295
        },
        "outputId": "e5cd4dff-16da-4ecf-b915-af6ddaafd932"
      },
      "execution_count": 24,
      "outputs": [
        {
          "output_type": "display_data",
          "data": {
            "text/plain": [
              "<Figure size 432x288 with 1 Axes>"
            ],
            "image/png": "[encoded data removed]"
          },
          "metadata": {
            "needs_background": "light"
          }
        }
      ]
    },
    {
      "cell_type": "code",
      "execution_count": 25,
      "metadata": {
        "id": "azh2GJnhguwR",
        "colab": {
          "base_uri": "https://localhost:8080/"
        },
        "outputId": "c8adc765-09b6-4f2a-9163-39f159386890"
      },
      "outputs": [
        {
          "output_type": "execute_result",
          "data": {
            "text/plain": [
              "<tensorflow.python.training.tracking.util.CheckpointLoadStatus at 0x7fd946280b80>"
            ]
          },
          "metadata": {},
          "execution_count": 25
        }
      ],
      "source": [
        "model.load_weights(checkpoint_filepath)"
      ]
    },
    {
      "cell_type": "code",
      "execution_count": 26,
      "metadata": {
        "id": "mOMnGcBrH06e",
        "colab": {
          "base_uri": "https://localhost:8080/"
        },
        "outputId": "01763c54-dd0f-4326-f9d4-3b10fd77073a"
      },
      "outputs": [
        {
          "output_type": "stream",
          "name": "stdout",
          "text": [
            "40/40 [==============================] - 432s 9s/step - loss: 1.0350 - accuracy: 0.6341\n"
          ]
        },
        {
          "output_type": "execute_result",
          "data": {
            "text/plain": [
              "[1.0349946022033691, 0.6340891122817993]"
            ]
          },
          "metadata": {},
          "execution_count": 26
        }
      ],
      "source": [
        "model.evaluate(test_ds)"
      ]
    }
  ],
  "metadata": {
    "accelerator": "GPU",
    "colab": {
      "provenance": []
    },
    "gpuClass": "standard",
    "kernelspec": {
      "display_name": "Python 3",
      "name": "python3"
    },
    "language_info": {
      "name": "python"
    }
  },
  "nbformat": 4,
  "nbformat_minor": 0
}